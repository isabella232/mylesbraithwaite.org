{
 "cells": [
  {
   "cell_type": "markdown",
   "metadata": {},
   "source": [
    "I got [really angry at Last.fm](https://twitter.com/mylesb/status/733664737347538944) today so I wanted to see how hard it was to duplicate it's Scrobbler feature (the only useful feature in Last.fm).\n",
    "\n",
    "I wrote a simple script that uses [subprocess](https://docs.python.org/3/library/subprocess.html) and [osascript](http://ss64.com/osx/osascript.html) (a command line AppleScript)."
   ]
  },
  {
   "cell_type": "code",
   "execution_count": 20,
   "metadata": {
    "collapsed": true
   },
   "outputs": [],
   "source": [
    "import subprocess\n",
    "\n",
    "\n",
    "def osascript(script):\n",
    "    \"\"\"\n",
    "    This is a bridge between Python and AppleScript using the `osascript`\n",
    "    comamnd line app.\n",
    "    \"\"\"\n",
    "\n",
    "    process = subprocess.run(['osascript', '-e', script],\n",
    "                             stdout=subprocess.PIPE)\n",
    "\n",
    "    # Because the `subprocess.CompletedProcess` class returns a byte (followed\n",
    "    # by a new line), I have to clean it a little.\n",
    "    return process.stdout.decode('utf-8').strip()"
   ]
  },
  {
   "cell_type": "code",
   "execution_count": 21,
   "metadata": {
    "collapsed": true
   },
   "outputs": [],
   "source": [
    "def itunes(args):\n",
    "    \"\"\"This is so I don't have to repeat a bunch of code.\"\"\"\n",
    "\n",
    "    script = 'tell application \"iTunes\" to {0} as string'\n",
    "\n",
    "    return osascript(script.format(args))"
   ]
  },
  {
   "cell_type": "code",
   "execution_count": 22,
   "metadata": {
    "collapsed": false
   },
   "outputs": [],
   "source": [
    "def is_running():\n",
    "    \"\"\"\n",
    "    Here we a checking to see if iTunes is currently running.\n",
    "    I'm doing this because if iTunes is closed I don't want to open it.\n",
    "    \"\"\"\n",
    "    output = osascript('application \"iTunes\" is running')\n",
    "\n",
    "    if output == 'true':\n",
    "        return True\n",
    "    else:\n",
    "        return False"
   ]
  },
  {
   "cell_type": "code",
   "execution_count": 17,
   "metadata": {
    "collapsed": true
   },
   "outputs": [],
   "source": [
    "def is_playing():\n",
    "    \"\"\"This function is to check if iTunes is currently playing music.\"\"\"\n",
    "    output = itunes('player state')\n",
    "\n",
    "    if output == 'playing':\n",
    "        return True\n",
    "    else:\n",
    "        return False"
   ]
  },
  {
   "cell_type": "code",
   "execution_count": 18,
   "metadata": {
    "collapsed": true
   },
   "outputs": [],
   "source": [
    "def get_track():\n",
    "    \"\"\"This is the main function that get the currently playing track.\"\"\"\n",
    "    track = {}\n",
    "\n",
    "    track['name'] = itunes('name of current track')\n",
    "    track['artist'] = itunes('artist of current track')\n",
    "    track['album'] = itunes('album of current track')\n",
    "\n",
    "    return track"
   ]
  },
  {
   "cell_type": "code",
   "execution_count": 19,
   "metadata": {
    "collapsed": false
   },
   "outputs": [
    {
     "name": "stdout",
     "output_type": "stream",
     "text": [
      "iTunes is currently playing:\n",
      "Garcia Counterpoint / Bryce Dessner / Day of the Dead\n"
     ]
    }
   ],
   "source": [
    "# `is_running()` and `is_playing()` need to be run separately, if together\n",
    "# than it will launch iTunes.\n",
    "if is_running():\n",
    "    if is_playing():\n",
    "        print('iTunes is currently playing:')\n",
    "        print(\"{name} / {artist} / {album}\".format(**get_track()))"
   ]
  },
  {
   "cell_type": "code",
   "execution_count": null,
   "metadata": {
    "collapsed": true
   },
   "outputs": [],
   "source": []
  }
 ],
 "metadata": {
  "kernelspec": {
   "display_name": "Python 3",
   "language": "python",
   "name": "python3"
  },
  "language_info": {
   "codemirror_mode": {
    "name": "ipython",
    "version": 3
   },
   "file_extension": ".py",
   "mimetype": "text/x-python",
   "name": "python",
   "nbconvert_exporter": "python",
   "pygments_lexer": "ipython3",
   "version": "3.5.1"
  }
 },
 "nbformat": 4,
 "nbformat_minor": 0
}
